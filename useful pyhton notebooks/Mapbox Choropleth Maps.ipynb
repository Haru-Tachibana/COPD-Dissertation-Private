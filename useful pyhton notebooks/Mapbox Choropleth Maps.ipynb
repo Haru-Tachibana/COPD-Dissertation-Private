{
 "cells": [
  {
   "cell_type": "code",
   "execution_count": 0,
   "metadata": {
    "application/vnd.databricks.v1+cell": {
     "cellMetadata": {
      "byteLimit": 2048000,
      "rowLimit": 10000
     },
     "inputWidgets": {},
     "nuid": "91b9f974-c8d8-40c0-b2b8-18968c04e56e",
     "showTitle": false,
     "title": ""
    }
   },
   "outputs": [],
   "source": [
    "from pyspark.sql import functions as F\n",
    "from pyspark.sql import Window\n",
    "from pyspark.sql.functions import collect_list, concat_ws, udf ,lit, col, when, split, size, lower, explode, dayofmonth\n",
    "from pyspark.sql.types import *\n",
    "from pyspark.sql import SparkSession, Row\n",
    "from pyspark.sql.functions import col, when, lit, avg, stddev, month, year, unix_timestamp, current_date, date_sub\n",
    "from pyspark.sql.functions import col, max, min, lit\n",
    "from pyspark.sql.functions import date_add, to_date\n",
    "import pandas as pd\n",
    "import plotly.express as px\n",
    "from urllib.request import urlopen\n",
    "import json\n",
    "import plotly.graph_objects as go"
   ]
  },
  {
   "cell_type": "code",
   "execution_count": 0,
   "metadata": {
    "application/vnd.databricks.v1+cell": {
     "cellMetadata": {
      "byteLimit": 2048000,
      "rowLimit": 10000
     },
     "inputWidgets": {},
     "nuid": "33675928-2733-47ea-a6d4-a1d2c8720543",
     "showTitle": false,
     "title": ""
    }
   },
   "outputs": [],
   "source": [
    "df_original = spark.table(\"marketingdata_prod.ds_sandbox.prediction_mean_yw\")"
   ]
  },
  {
   "cell_type": "code",
   "execution_count": 0,
   "metadata": {
    "application/vnd.databricks.v1+cell": {
     "cellMetadata": {
      "byteLimit": 2048000,
      "rowLimit": 10000
     },
     "collapsed": true,
     "inputWidgets": {},
     "nuid": "f92e3dda-285e-418b-95ab-82bee0d422bc",
     "showTitle": false,
     "title": ""
    }
   },
   "outputs": [],
   "source": [
    "df_3 = spark.table(\"marketingdata_prod.ds_sandbox.df_3_plotly_yw\")"
   ]
  },
  {
   "cell_type": "code",
   "execution_count": 0,
   "metadata": {
    "application/vnd.databricks.v1+cell": {
     "cellMetadata": {
      "byteLimit": 2048000,
      "rowLimit": 10000
     },
     "inputWidgets": {},
     "nuid": "32b0fba5-8c7c-40b5-bb38-20a72914da43",
     "showTitle": false,
     "title": ""
    }
   },
   "outputs": [],
   "source": [
    "df_3_pd = df_3.toPandas()"
   ]
  },
  {
   "cell_type": "code",
   "execution_count": 0,
   "metadata": {
    "application/vnd.databricks.v1+cell": {
     "cellMetadata": {
      "byteLimit": 2048000,
      "rowLimit": 10000
     },
     "collapsed": true,
     "inputWidgets": {},
     "nuid": "77be2f62-48b1-4cc6-a20e-c0908cd384bb",
     "showTitle": false,
     "title": ""
    }
   },
   "outputs": [],
   "source": [
    "#df_original.display()"
   ]
  },
  {
   "cell_type": "code",
   "execution_count": 0,
   "metadata": {
    "application/vnd.databricks.v1+cell": {
     "cellMetadata": {
      "byteLimit": 2048000,
      "rowLimit": 10000
     },
     "inputWidgets": {},
     "nuid": "014a7419-6120-4710-82a0-752e1d83adc9",
     "showTitle": false,
     "title": ""
    }
   },
   "outputs": [],
   "source": [
    "import json\n",
    "with open(\"/dbfs/FileStore/contact_centre/FileShare/uk_postcode_sectors_2.geojson\", \"r\") as f: postcode_sectors_geojson_2 = json.load(f)"
   ]
  },
  {
   "cell_type": "code",
   "execution_count": 0,
   "metadata": {
    "application/vnd.databricks.v1+cell": {
     "cellMetadata": {
      "byteLimit": 2048000,
      "rowLimit": 10000
     },
     "inputWidgets": {},
     "nuid": "795eade2-1e3d-4217-b78f-8db0464cd874",
     "showTitle": false,
     "title": ""
    }
   },
   "outputs": [],
   "source": [
    "fig = px.choropleth_mapbox(\n",
    "    df_3_pd,\n",
    "    geojson=postcode_sectors_geojson_2,\n",
    "    locations=\"postcode_3\",\n",
    "    color=\"prediction\",\n",
    "    color_continuous_scale=\"Viridis\",\n",
    "    range_color=(0, 1),\n",
    "    mapbox_style=\"carto-positron\",\n",
    "    zoom=5,\n",
    "    center={\"lat\": 54.5, \"lon\": -2},\n",
    "    opacity=0.5,\n",
    "    #labels={\"unemp\": \"unemployment rate\"},\n",
    ")\n",
    "fig.update_layout(margin={\"r\": 0, \"t\": 0, \"l\": 0, \"b\": 0})\n",
    "#fig.show()"
   ]
  },
  {
   "cell_type": "code",
   "execution_count": 0,
   "metadata": {
    "application/vnd.databricks.v1+cell": {
     "cellMetadata": {
      "byteLimit": 2048000,
      "rowLimit": 10000
     },
     "inputWidgets": {},
     "nuid": "cc03daa4-cd74-4a69-a2a2-bfecb2c52b91",
     "showTitle": false,
     "title": ""
    }
   },
   "outputs": [],
   "source": [
    "fig.write_html(\"/dbfs/FileStore/contact_centre/FileShare/fig_choropleth_yw.html\")"
   ]
  },
  {
   "cell_type": "markdown",
   "metadata": {
    "application/vnd.databricks.v1+cell": {
     "cellMetadata": {
      "byteLimit": 2048000,
      "rowLimit": 10000
     },
     "inputWidgets": {},
     "nuid": "cb792952-9f12-476f-bed7-9accd910c83d",
     "showTitle": false,
     "title": ""
    }
   },
   "source": [
    "## 2. Branch Scatter"
   ]
  },
  {
   "cell_type": "code",
   "execution_count": 0,
   "metadata": {
    "application/vnd.databricks.v1+cell": {
     "cellMetadata": {
      "byteLimit": 2048000,
      "rowLimit": 10000
     },
     "inputWidgets": {},
     "nuid": "2887681d-0fb3-41af-8fd1-9a52df9d239e",
     "showTitle": false,
     "title": ""
    }
   },
   "outputs": [],
   "source": [
    "branch_coor = spark.table(\"marketingdata_prod.ds_sandbox.branch_for_scatter_yw\")"
   ]
  },
  {
   "cell_type": "code",
   "execution_count": 0,
   "metadata": {
    "application/vnd.databricks.v1+cell": {
     "cellMetadata": {
      "byteLimit": 2048000,
      "rowLimit": 10000
     },
     "inputWidgets": {},
     "nuid": "f283ec59-0952-4ba7-b7ab-c59b152560df",
     "showTitle": false,
     "title": ""
    }
   },
   "outputs": [],
   "source": [
    "#branch_coor.display()"
   ]
  },
  {
   "cell_type": "code",
   "execution_count": 0,
   "metadata": {
    "application/vnd.databricks.v1+cell": {
     "cellMetadata": {
      "byteLimit": 2048000,
      "rowLimit": 10000
     },
     "inputWidgets": {},
     "nuid": "be606c66-a27d-4ce9-b189-a85d6c33ee55",
     "showTitle": false,
     "title": ""
    }
   },
   "outputs": [],
   "source": [
    "branch_coor_pd = branch_coor.toPandas()"
   ]
  },
  {
   "cell_type": "code",
   "execution_count": 0,
   "metadata": {
    "application/vnd.databricks.v1+cell": {
     "cellMetadata": {
      "byteLimit": 2048000,
      "rowLimit": 10000
     },
     "inputWidgets": {},
     "nuid": "52f9e63c-aa32-4c88-a96f-0a7f6b6aa2b0",
     "showTitle": false,
     "title": ""
    }
   },
   "outputs": [],
   "source": [
    "overlay_map = px.choropleth_mapbox(\n",
    "    df_3_pd,\n",
    "    geojson=postcode_sectors_geojson_2,\n",
    "    locations=\"postcode_3\",\n",
    "    color=\"prediction\",\n",
    "    color_continuous_scale=\"Viridis\",\n",
    "    range_color=(0, 1),\n",
    "    mapbox_style=\"carto-positron\",\n",
    "    zoom=5,\n",
    "    center={\"lat\": 54.5, \"lon\": -2},\n",
    "    opacity=0.3,\n",
    ")\n",
    "\n",
    "overlay_map.update_layout(margin={\"r\": 0, \"t\": 0, \"l\": 0, \"b\": 0})\n",
    "\n",
    "branch = go.Scattermapbox(\n",
    "    lat=branch_coor_pd['Latitude'], \n",
    "    lon=branch_coor_pd['Longitude'],  \n",
    "    mode='markers',\n",
    "    marker=go.scattermapbox.Marker(\n",
    "        size=7,\n",
    "        color='black', \n",
    "        opacity=0.7\n",
    "    ),\n",
    "    text=branch_coor_pd['branch_code_desc'], \n",
    ")\n",
    "\n",
    "#overlay_map = go.overlay_mapure(overlay_map)\n",
    "overlay_map.add_trace(branch)\n",
    "\n",
    "overlay_map.write_html(\"/dbfs/FileStore/contact_centre/FileShare/map_overlay_yw.html\")"
   ]
  }
 ],
 "metadata": {
  "application/vnd.databricks.v1+notebook": {
   "dashboards": [],
   "environmentMetadata": null,
   "language": "python",
   "notebookMetadata": {
    "pythonIndentUnit": 4
   },
   "notebookName": "Mapbox Choropleth Maps",
   "widgets": {}
  }
 },
 "nbformat": 4,
 "nbformat_minor": 0
}
