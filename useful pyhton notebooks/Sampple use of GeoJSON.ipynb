{
 "cells": [
  {
   "cell_type": "code",
   "execution_count": 0,
   "metadata": {
    "application/vnd.databricks.v1+cell": {
     "cellMetadata": {},
     "inputWidgets": {},
     "nuid": "357f817d-72c8-4c98-abfe-7675c95b3884",
     "showTitle": false,
     "title": ""
    }
   },
   "outputs": [],
   "source": [
    "\n",
    "import os\n",
    "import glob\n",
    "import geojson\n",
    "\n",
    "\n",
    "filestore_directory = \"dbfs:/FileStore/contact_centre/FileShare/\"\n",
    "outpath = os.path.join(filestore_directory, \"uk_postcode_sectors.geojson\")\n",
    "\n",
    "json_dir_name = \"/Workspace/Repos/daniel_wilkinson3@next.co.uk/uk-postcode-polygons/geojson/\"\n",
    "json_pattern = os.path.join(json_dir_name,'*.geojson')\n",
    "file_list = glob.glob(json_pattern)\n",
    "\n",
    "collection = []\n",
    "\n",
    "for file in file_list:\n",
    "    with open(file) as f:\n",
    "        layer = geojson.load(f)\n",
    "        collection.append(layer)\n",
    "\n",
    "geo_collection = geojson.GeometryCollection(collection)\n",
    "\n",
    "with open(interconvert_path(outpath), 'w') as f:\n",
    "    geojson.dump(geo_collection, f)"
   ]
  },
  {
   "cell_type": "code",
   "execution_count": 0,
   "metadata": {
    "application/vnd.databricks.v1+cell": {
     "cellMetadata": {},
     "inputWidgets": {},
     "nuid": "c7c51621-3fa8-4e46-b642-2371eff03439",
     "showTitle": false,
     "title": ""
    }
   },
   "outputs": [],
   "source": [
    "geo_collection_copy = geo_collection.copy()"
   ]
  },
  {
   "cell_type": "code",
   "execution_count": 0,
   "metadata": {
    "application/vnd.databricks.v1+cell": {
     "cellMetadata": {},
     "inputWidgets": {},
     "nuid": "20983d9e-c68b-42f7-bb51-494a59fb8ebd",
     "showTitle": false,
     "title": ""
    }
   },
   "outputs": [],
   "source": [
    "for obj in geo_collection_copy[\"geometries\"]:\n",
    "    print(obj)\n",
    "    features = obj[\"features\"]\n",
    "    for feature in features:\n",
    "        feature_properties = feature.get(\"properties\")\n",
    "        name = feature_properties.get(\"name\")\n",
    "        feature[\"id\"] = name "
   ]
  },
  {
   "cell_type": "code",
   "execution_count": 0,
   "metadata": {
    "application/vnd.databricks.v1+cell": {
     "cellMetadata": {},
     "inputWidgets": {},
     "nuid": "2a48b78f-0358-4383-828f-106c13c53134",
     "showTitle": false,
     "title": ""
    }
   },
   "outputs": [],
   "source": [
    "with open(outpath.replace(\"dbfs:/\", \"/dbfs/\"), \"w\") as f:\n",
    "    json.dump(geo_collection_copy, f)"
   ]
  },
  {
   "cell_type": "code",
   "execution_count": 0,
   "metadata": {
    "application/vnd.databricks.v1+cell": {
     "cellMetadata": {},
     "inputWidgets": {},
     "nuid": "7f505277-ed58-49fe-9d40-783d6c942908",
     "showTitle": false,
     "title": ""
    }
   },
   "outputs": [],
   "source": [
    "postcode_areas = geo_collection_copy[\"geometries\"]\n",
    "\n",
    "combined_areas = {\"type\": \"FeatureCollection\", \"features\": []}\n",
    "for postcode_area in postcode_areas:\n",
    "    combined_areas[\"features\"] += postcode_area[\"features\"]"
   ]
  },
  {
   "cell_type": "code",
   "execution_count": 0,
   "metadata": {
    "application/vnd.databricks.v1+cell": {
     "cellMetadata": {},
     "inputWidgets": {},
     "nuid": "50fdef3f-c626-470a-bc78-658b357f105d",
     "showTitle": false,
     "title": ""
    }
   },
   "outputs": [],
   "source": [
    "outpath_2 = '/dbfs/FileStore/contact_centre/FileShare/uk_postcode_sectors_2.geojson'\n",
    "with open(outpath_2, \"w\") as f:\n",
    "    json.dump(combined_areas, f)"
   ]
  },
  {
   "cell_type": "code",
   "execution_count": 0,
   "metadata": {
    "application/vnd.databricks.v1+cell": {
     "cellMetadata": {},
     "inputWidgets": {},
     "nuid": "093a26e4-4118-463c-a152-f16e37e7352b",
     "showTitle": false,
     "title": ""
    }
   },
   "outputs": [],
   "source": [
    "print(json.dumps(geo_collection_copy[\"geometries\"][0], indent = True))"
   ]
  }
 ],
 "metadata": {
  "application/vnd.databricks.v1+notebook": {
   "dashboards": [],
   "environmentMetadata": null,
   "language": "python",
   "notebookMetadata": {
    "pythonIndentUnit": 4
   },
   "notebookName": "Combine_Sectors_GeoJSON",
   "widgets": {}
  }
 },
 "nbformat": 4,
 "nbformat_minor": 0
}
