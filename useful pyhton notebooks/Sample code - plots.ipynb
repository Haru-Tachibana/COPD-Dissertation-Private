{
 "cells": [
  {
   "cell_type": "markdown",
   "metadata": {
    "application/vnd.databricks.v1+cell": {
     "cellMetadata": {},
     "inputWidgets": {},
     "nuid": "c9e28f18-cd13-4c8c-92a6-49b8e23945da",
     "showTitle": false,
     "title": ""
    }
   },
   "source": [
    "## Create new dataframe from original df"
   ]
  },
  {
   "cell_type": "markdown",
   "metadata": {
    "application/vnd.databricks.v1+cell": {
     "cellMetadata": {},
     "inputWidgets": {},
     "nuid": "11a78d4e-26eb-409f-b9b4-e6f430c51b45",
     "showTitle": false,
     "title": ""
    }
   },
   "source": [
    "### - replace null with 0 + count + percentage calculation + add new columns + melting + descending ranking"
   ]
  },
  {
   "cell_type": "code",
   "execution_count": 0,
   "metadata": {
    "application/vnd.databricks.v1+cell": {
     "cellMetadata": {},
     "inputWidgets": {},
     "nuid": "023331b7-37a7-4130-a953-0f7aa0f27814",
     "showTitle": false,
     "title": ""
    }
   },
   "outputs": [],
   "source": [
    "# create spark dataframe\n",
    "generalmanager_pivot = spark.sql(\n",
    "    \"SELECT * FROM (SELECT GeneralManager, sentiment FROM df) AS a PIVOT (COUNT(*) AS count FOR sentiment IN ('positive', 'negative', 'neutral'))\"\n",
    ")\n",
    "spark = SparkSession.builder.appName(\"DropNulls\").getOrCreate()\n",
    "generalmanager_pivot = generalmanager_pivot.dropna(subset=[\"GeneralManager\"])\n",
    "generalmanager_pivot.createOrReplaceTempView(\"generalmanager_pivot\")\n",
    "# generalmanager_pivot.display()\n",
    "\n",
    "\n",
    "# to pandas df and replace null by 0\n",
    "generalmanager_pivot_pd = generalmanager_pivot.toPandas()\n",
    "generalmanager_pivot_pd.fillna(0, inplace=True)\n",
    "# generalmanager_pivot_pd.display()\n",
    "\n",
    "\n",
    "# count volume by sentiment\n",
    "generalmanager_pivot_pd[\"total\"] = (\n",
    "    generalmanager_pivot_pd[\"positive\"]\n",
    "    + generalmanager_pivot_pd[\"negative\"]\n",
    "    + generalmanager_pivot_pd[\"neutral\"]\n",
    ")\n",
    "\n",
    "\n",
    "# volume to percentage\n",
    "generalmanager_pivot_pd[\"percentage_positive\"] = round(\n",
    "    generalmanager_pivot_pd[\"positive\"] / generalmanager_pivot_pd[\"total\"] * 100, 1\n",
    ")\n",
    "generalmanager_pivot_pd[\"percentage_negative\"] = round(\n",
    "    generalmanager_pivot_pd[\"negative\"] / generalmanager_pivot_pd[\"total\"] * 100, 1\n",
    ")\n",
    "generalmanager_pivot_pd[\"percentage_neutral\"] = round(\n",
    "    generalmanager_pivot_pd[\"neutral\"] / generalmanager_pivot_pd[\"total\"] * 100, 1\n",
    ")\n",
    "generalmanager_pivot_pd.drop(columns=[\"total\"], inplace=True)\n",
    "display(generalmanager_pivot_pd)\n",
    "\n",
    "\n",
    "# melt df\n",
    "generalmanager_pivot_pd_melted = generalmanager_pivot_pd.melt(\n",
    "    id_vars=[\"GeneralManager\"],\n",
    "    value_vars=[\"percentage_positive\", \"percentage_negative\", \"percentage_neutral\"],\n",
    "    var_name=\"Sentiment\",\n",
    "    value_name=\"Percentage\",\n",
    ")\n",
    "\n",
    "\n",
    "# descending ranking by positive rate\n",
    "generalmanager_pivot_pd_melted[\n",
    "    \"percentage_positive\"\n",
    "] = generalmanager_pivot_pd_melted.apply(\n",
    "    lambda row: generalmanager_pivot_pd[\n",
    "        generalmanager_pivot_pd[\"GeneralManager\"] == row[\"GeneralManager\"]\n",
    "    ][\"percentage_positive\"].values[0],\n",
    "    axis=1,\n",
    ")\n",
    "generalmanager_pivot_pd_melted = generalmanager_pivot_pd_melted.sort_values(\n",
    "    by=\"percentage_positive\", ascending=False\n",
    ")"
   ]
  },
  {
   "cell_type": "code",
   "execution_count": 0,
   "metadata": {
    "application/vnd.databricks.v1+cell": {
     "cellMetadata": {},
     "inputWidgets": {},
     "nuid": "1214f976-5f0b-443d-bb0c-75a16634bd67",
     "showTitle": false,
     "title": ""
    }
   },
   "outputs": [],
   "source": [
    "dept_grouped_pd = dept_grouped_pd[dept_grouped_pd[\"deptmanager\"].notna()]\n",
    "dept_grouped_pd = dept_grouped_pd[dept_grouped_pd[\"deptmanager\"] != \"null\"]\n",
    "\n",
    "dept_grouped_pd_melted = dept_grouped_pd.melt(\n",
    "    id_vars=[\"deptmanager\"],\n",
    "    value_vars=[\"percentage_positive\", \"percentage_negative\", \"percentage_neutral\"],\n",
    "    var_name=\"Sentiment\",\n",
    "    value_name=\"Percentage\",\n",
    ")\n",
    "\n",
    "dept_grouped_pd_melted[\"percentage_positive\"] = dept_grouped_pd_melted.apply(\n",
    "    lambda row: dept_grouped_pd[dept_grouped_pd[\"deptmanager\"] == row[\"deptmanager\"]][\n",
    "        \"percentage_positive\"\n",
    "    ].values[0],\n",
    "    axis=1,\n",
    ")\n",
    "dept_grouped_pd_melted = dept_grouped_pd_melted.sort_values(\n",
    "    by=\"percentage_positive\", ascending=False\n",
    ")\n",
    "\n",
    "\n",
    "plt.figure(figsize=(14, 10))\n",
    "sns.barplot(\n",
    "    data=dept_grouped_pd_melted,\n",
    "    y=\"deptmanager\",\n",
    "    x=\"Percentage\",\n",
    "    hue=\"Sentiment\",\n",
    "    ci=None,\n",
    "    palette=[\"salmon\", \"skyblue\", \"lightgreen\"],\n",
    "    dodge=False\n",
    ")\n",
    "\n",
    "\n",
    "plt.title(\"Sentiment Percentage by deptmanager\", fontsize=16)\n",
    "plt.ylabel(\"deptmanager\", fontsize=14)\n",
    "plt.xlabel(\"Percentage\", fontsize=14)\n",
    "plt.legend(title=\"Sentiment\")\n",
    "plt.show()"
   ]
  },
  {
   "cell_type": "code",
   "execution_count": 0,
   "metadata": {
    "application/vnd.databricks.v1+cell": {
     "cellMetadata": {},
     "inputWidgets": {},
     "nuid": "e7ee4127-d6ff-4b4d-9baf-898e09c547f5",
     "showTitle": false,
     "title": ""
    }
   },
   "outputs": [],
   "source": [
    "plt.figure(figsize=(16, 9))\n",
    "sns.barplot(\n",
    "    data=dept_grouped_pd_melted,\n",
    "    y=\"deptmanager\",\n",
    "    x=\"Percentage\",\n",
    "    hue=\"Sentiment\",\n",
    "    errorbar=None,\n",
    "    palette=[\"salmon\", \"skyblue\", \"lightgreen\"],\n",
    "    dodge=False,\n",
    "    ax=axs[0, 1],\n",
    ")\n",
    "\n",
    "axs[0, 1].set_title(\"Group by Department Manager\", fontsize=16)\n",
    "axs[0, 1].set_ylabel(\"Department Manager\", fontsize=14)\n",
    "axs[0, 1].set_xlabel(\"Sentiment (%)\", fontsize=14)"
   ]
  }
 ],
 "metadata": {
  "application/vnd.databricks.v1+notebook": {
   "dashboards": [],
   "environmentMetadata": null,
   "language": "python",
   "notebookMetadata": {
    "pythonIndentUnit": 4
   },
   "notebookName": "Sample code - plots",
   "widgets": {}
  }
 },
 "nbformat": 4,
 "nbformat_minor": 0
}
